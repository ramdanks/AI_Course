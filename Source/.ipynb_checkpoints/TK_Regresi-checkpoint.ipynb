{
 "cells": [
  {
   "cell_type": "code",
   "execution_count": 1,
   "id": "disabled-return",
   "metadata": {},
   "outputs": [
    {
     "data": {
      "text/html": [
       "        <script type=\"text/javascript\">\n",
       "        window.PlotlyConfig = {MathJaxConfig: 'local'};\n",
       "        if (window.MathJax) {MathJax.Hub.Config({SVG: {font: \"STIX-Web\"}});}\n",
       "        if (typeof require !== 'undefined') {\n",
       "        require.undef(\"plotly\");\n",
       "        requirejs.config({\n",
       "            paths: {\n",
       "                'plotly': ['https://cdn.plot.ly/plotly-latest.min']\n",
       "            }\n",
       "        });\n",
       "        require(['plotly'], function(Plotly) {\n",
       "            window._Plotly = Plotly;\n",
       "        });\n",
       "        }\n",
       "        </script>\n",
       "        "
      ]
     },
     "metadata": {},
     "output_type": "display_data"
    }
   ],
   "source": [
    "import matplotlib.pyplot as plt\n",
    "import numpy as np\n",
    "import pandas as pd\n",
    "import chart_studio.plotly as py\n",
    "from plotly.offline import iplot, init_notebook_mode\n",
    "\n",
    "init_notebook_mode(connected=True)"
   ]
  },
  {
   "cell_type": "code",
   "execution_count": 2,
   "id": "mexican-contact",
   "metadata": {},
   "outputs": [],
   "source": [
    "def draw_missing_data_table(df):\n",
    "    total = df.isnull().sum().sort_values(ascending=False)\n",
    "    percent = (df.isnull().sum()/df.isnull().count()).sort_values(ascending=False)\n",
    "    missing_data = pd.concat([total, percent], axis=1, keys=['Total', 'Percent'])\n",
    "    return missing_data"
   ]
  },
  {
   "cell_type": "code",
   "execution_count": 3,
   "id": "toxic-operation",
   "metadata": {},
   "outputs": [],
   "source": [
    "# f(0) * data(0)(0) * f(1) * data(0)(1) * ... + bias\n",
    "def predict(dataset, factor, bias):\n",
    "    total_sample = dataset.shape[0]\n",
    "    total_feature = dataset.shape[1]\n",
    "    result = np.zeros(total_sample)\n",
    "    for i in range(total_sample):\n",
    "        value = bias\n",
    "        for j in range(total_feature):\n",
    "            value += factor[j] * dataset[i][j]\n",
    "        result[i] = np.sum(value)\n",
    "    return result\n",
    "\n",
    "\n",
    "def cost(y, yP):\n",
    "    sum = 0\n",
    "    total_sample = y.shape[0]\n",
    "    for i in range(total_sample):\n",
    "        sum += (yP[i] - y[i])**2\n",
    "    return np.sum(sum / (2 * total_sample))\n",
    "\n",
    "def batch_GD(dataset, y, iter, learning_rate=0.01):\n",
    "\n",
    "    total_sample = dataset.shape[0]\n",
    "    total_feature = dataset.shape[1]\n",
    "\n",
    "    mse = 1\n",
    "    bias = 0\n",
    "    weights = np.ones(total_feature)\n",
    "\n",
    "    cost_history = []\n",
    "    w_history = []\n",
    "    b_history = []\n",
    "    \n",
    "    for train in range(iter):\n",
    "        \n",
    "        yP = predict(dataset, weights, bias)\n",
    "        icost = cost(y,yP)\n",
    "\n",
    "        wGrad = np.zeros(total_feature)\n",
    "        for i in range(total_feature):\n",
    "            sum = 0\n",
    "            for j in range(total_sample):\n",
    "                sum += yP[j] - y[j] * dataset[j][i]\n",
    "            wGrad[i] = np.sum(sum / total_sample)\n",
    "\n",
    "        bGrad   = np.sum(yP - y) / total_sample\n",
    "        weights = weights - learning_rate * wGrad\n",
    "        bias    = bias - learning_rate * bGrad\n",
    "\n",
    "        cost_history.append(icost)\n",
    "        w_history.append(weights)\n",
    "        b_history.append(bias)\n",
    "\n",
    "    return cost_history, w_history, b_history"
   ]
  },
  {
   "cell_type": "code",
   "execution_count": 4,
   "id": "disturbed-mention",
   "metadata": {},
   "outputs": [
    {
     "data": {
      "text/html": [
       "<div>\n",
       "<style scoped>\n",
       "    .dataframe tbody tr th:only-of-type {\n",
       "        vertical-align: middle;\n",
       "    }\n",
       "\n",
       "    .dataframe tbody tr th {\n",
       "        vertical-align: top;\n",
       "    }\n",
       "\n",
       "    .dataframe thead th {\n",
       "        text-align: right;\n",
       "    }\n",
       "</style>\n",
       "<table border=\"1\" class=\"dataframe\">\n",
       "  <thead>\n",
       "    <tr style=\"text-align: right;\">\n",
       "      <th></th>\n",
       "      <th>Total</th>\n",
       "      <th>Percent</th>\n",
       "    </tr>\n",
       "  </thead>\n",
       "  <tbody>\n",
       "    <tr>\n",
       "      <th>MSSubClass</th>\n",
       "      <td>0</td>\n",
       "      <td>0.0</td>\n",
       "    </tr>\n",
       "  </tbody>\n",
       "</table>\n",
       "</div>"
      ],
      "text/plain": [
       "            Total  Percent\n",
       "MSSubClass      0      0.0"
      ]
     },
     "metadata": {},
     "output_type": "display_data"
    },
    {
     "name": "stdout",
     "output_type": "stream",
     "text": [
      "   MSSubClass\n",
      "0           1\n",
      "1           2\n",
      "2           3\n",
      "3           4\n",
      "   SalePrice\n",
      "0          1\n",
      "1          3\n",
      "2          5\n",
      "3          7\n"
     ]
    }
   ],
   "source": [
    "datacsv  = pd.read_csv('../input/house/train.csv')\n",
    "dataset  = pd.DataFrame(datacsv, columns = ['MSSubClass'])\n",
    "targets  = pd.DataFrame(datacsv, columns = ['SalePrice'])\n",
    "\n",
    "missing_dataset = draw_missing_data_table(dataset)\n",
    "display(missing_dataset)\n",
    "#dataset['LotFrontage'].fillna(0, inplace=True)\n",
    "                              \n",
    "print(dataset.head())\n",
    "print(targets.head())"
   ]
  },
  {
   "cell_type": "code",
   "execution_count": 5,
   "id": "designing-calgary",
   "metadata": {},
   "outputs": [
    {
     "data": {
      "image/png": "[encoded data removed]",
      "text/plain": [
       "<Figure size 432x288 with 1 Axes>"
      ]
     },
     "metadata": {
      "needs_background": "light"
     },
     "output_type": "display_data"
    },
    {
     "ename": "NameError",
     "evalue": "name 'numbers' is not defined",
     "output_type": "error",
     "traceback": [
      "\u001b[1;31m---------------------------------------------------------------------------\u001b[0m",
      "\u001b[1;31mNameError\u001b[0m                                 Traceback (most recent call last)",
      "\u001b[1;32m<ipython-input-5-293f88fe1157>\u001b[0m in \u001b[0;36m<module>\u001b[1;34m\u001b[0m\n\u001b[0;32m     12\u001b[0m \u001b[0mplt\u001b[0m\u001b[1;33m.\u001b[0m\u001b[0mshow\u001b[0m\u001b[1;33m(\u001b[0m\u001b[1;33m)\u001b[0m\u001b[1;33m\u001b[0m\u001b[1;33m\u001b[0m\u001b[0m\n\u001b[0;32m     13\u001b[0m \u001b[1;33m\u001b[0m\u001b[0m\n\u001b[1;32m---> 14\u001b[1;33m \u001b[0mmin_index\u001b[0m \u001b[1;33m=\u001b[0m \u001b[0mnp\u001b[0m\u001b[1;33m.\u001b[0m\u001b[0margmin\u001b[0m\u001b[1;33m(\u001b[0m\u001b[0mnumbers\u001b[0m\u001b[1;33m)\u001b[0m\u001b[1;33m\u001b[0m\u001b[1;33m\u001b[0m\u001b[0m\n\u001b[0m\u001b[0;32m     15\u001b[0m \u001b[0mprint\u001b[0m\u001b[1;33m(\u001b[0m\u001b[1;34m\"Minimum Costs: \"\u001b[0m\u001b[1;33m,\u001b[0m \u001b[0mcosts\u001b[0m\u001b[1;33m[\u001b[0m\u001b[0mmin_index\u001b[0m\u001b[1;33m]\u001b[0m\u001b[1;33m)\u001b[0m\u001b[1;33m\u001b[0m\u001b[1;33m\u001b[0m\u001b[0m\n\u001b[0;32m     16\u001b[0m \u001b[0mprint\u001b[0m\u001b[1;33m(\u001b[0m\u001b[1;34m\"Weights: \"\u001b[0m\u001b[1;33m,\u001b[0m \u001b[0mws\u001b[0m\u001b[1;33m[\u001b[0m\u001b[0mmin_index\u001b[0m\u001b[1;33m]\u001b[0m\u001b[1;33m)\u001b[0m\u001b[1;33m\u001b[0m\u001b[1;33m\u001b[0m\u001b[0m\n",
      "\u001b[1;31mNameError\u001b[0m: name 'numbers' is not defined"
     ]
    }
   ],
   "source": [
    "targets = targets.to_numpy()\n",
    "dataset = dataset.to_numpy()\n",
    "\n",
    "iteration = 1000\n",
    "learning_rate = 0.0001\n",
    "costs, ws, bs = batch_GD(dataset, targets, iteration, learning_rate)\n",
    "\n",
    "fig, ax = plt.subplots()\n",
    "ax.plot(np.arange(1000), costs, color='Red')\n",
    "ax.set_xlabel(\"Iteration\")\n",
    "ax.set_ylabel(\"Cost Value\")\n",
    "plt.show()\n",
    "\n",
    "min_index = np.argmin(costs)\n",
    "print(\"Minimum Costs: \", costs[min_index])\n",
    "print(\"Weights: \", ws[min_index])\n",
    "print(\"Bias:\", bs[min_index])\n"
   ]
  },
  {
   "cell_type": "markdown",
   "id": "deadly-blocking",
   "metadata": {},
   "source": [
    "### Regresi Metode Statistika "
   ]
  },
  {
   "cell_type": "code",
   "execution_count": null,
   "id": "technical-metabolism",
   "metadata": {},
   "outputs": [],
   "source": [
    "best = train(trainingSet, 0, 0.1, 1000, 0, 0.1, 100)\n",
    "xGrad = [trainingSet[0].x, trainingSet[-1].x]\n",
    "yGrad = [best.value(trainingSet[0].x), best.value(trainingSet[-1].x)]\n",
    "\n",
    "xData = []\n",
    "yData = []\n",
    "for i in trainingSet:\n",
    "    xData.append(i.x)\n",
    "    yData.append(i.y)\n",
    "    \n",
    "fig, ax = plt.subplots()\n",
    "ax.scatter(xData, yData)\n",
    "ax.plot(xGrad, yGrad, color='Red')\n",
    "\n",
    "ax.set_xlabel(\"X (Input)\")\n",
    "ax.set_ylabel(\"Y (Output)\")\n",
    "plt.show()"
   ]
  },
  {
   "cell_type": "markdown",
   "id": "furnished-pressure",
   "metadata": {},
   "source": [
    "### Regresi Metode Gradient Descent"
   ]
  },
  {
   "cell_type": "code",
   "execution_count": null,
   "id": "unsigned-dividend",
   "metadata": {},
   "outputs": [],
   "source": [
    "m, b, cost = gradient_descent(trainingSet, 0, 2, 0.35, 100)\n",
    "fig = plt.figure()\n",
    "ax = fig.add_subplot(111, projection='3d')\n",
    "ax.scatter(m, b, cost)\n",
    "ax.set_xlabel('m (Theta1)')\n",
    "ax.set_ylabel('b (Theta0)')\n",
    "ax.set_zlabel('Cost Value')\n",
    "plt.show()"
   ]
  },
  {
   "cell_type": "code",
   "execution_count": null,
   "id": "alive-bennett",
   "metadata": {},
   "outputs": [],
   "source": []
  }
 ],
 "metadata": {
  "kernelspec": {
   "display_name": "Python 3",
   "language": "python",
   "name": "python3"
  },
  "language_info": {
   "codemirror_mode": {
    "name": "ipython",
    "version": 3
   },
   "file_extension": ".py",
   "mimetype": "text/x-python",
   "name": "python",
   "nbconvert_exporter": "python",
   "pygments_lexer": "ipython3",
   "version": "3.9.2"
  }
 },
 "nbformat": 4,
 "nbformat_minor": 5
}
