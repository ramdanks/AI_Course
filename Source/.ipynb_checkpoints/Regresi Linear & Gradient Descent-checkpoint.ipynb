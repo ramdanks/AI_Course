{
 "cells": [
  {
   "cell_type": "markdown",
   "id": "lesser-invalid",
   "metadata": {},
   "source": [
    "### Regresi Linear and Gradient Descent\n",
    "\n",
    "- Kelompok: Krawu\n",
    "- Anggota: Arief Saferman, Kevin Darmawan, Ramadhan Kalih Sewu, Yogie Wisesa\n",
    "- Code from scratch, test implementation using house dataset"
   ]
  },
  {
   "cell_type": "code",
   "execution_count": 1,
   "id": "apparent-publicity",
   "metadata": {},
   "outputs": [
    {
     "data": {
      "text/html": [
       "        <script type=\"text/javascript\">\n",
       "        window.PlotlyConfig = {MathJaxConfig: 'local'};\n",
       "        if (window.MathJax) {MathJax.Hub.Config({SVG: {font: \"STIX-Web\"}});}\n",
       "        if (typeof require !== 'undefined') {\n",
       "        require.undef(\"plotly\");\n",
       "        requirejs.config({\n",
       "            paths: {\n",
       "                'plotly': ['https://cdn.plot.ly/plotly-latest.min']\n",
       "            }\n",
       "        });\n",
       "        require(['plotly'], function(Plotly) {\n",
       "            window._Plotly = Plotly;\n",
       "        });\n",
       "        }\n",
       "        </script>\n",
       "        "
      ]
     },
     "metadata": {},
     "output_type": "display_data"
    }
   ],
   "source": [
    "import sys\n",
    "import matplotlib.pyplot as plt\n",
    "import numpy as np\n",
    "import pandas as pd\n",
    "import chart_studio.plotly as py\n",
    "from plotly.offline import iplot, init_notebook_mode\n",
    "\n",
    "init_notebook_mode(connected=True)"
   ]
  },
  {
   "cell_type": "markdown",
   "id": "interior-private",
   "metadata": {},
   "source": [
    "Fungsi ini digunakan untuk menampilkan sebuah feature (kolom) yang memiliki nilai kosong."
   ]
  },
  {
   "cell_type": "code",
   "execution_count": 2,
   "id": "federal-latitude",
   "metadata": {},
   "outputs": [],
   "source": [
    "def DrawMissing(df):\n",
    "    total = df.isnull().sum().sort_values(ascending=False)\n",
    "    percent = (df.isnull().sum()/df.isnull().count()).sort_values(ascending=False)\n",
    "    missing_data = pd.concat([total, percent], axis=1, keys=['Total', 'Percent'])\n",
    "    return missing_data"
   ]
  },
  {
   "cell_type": "markdown",
   "id": "hydraulic-taxation",
   "metadata": {},
   "source": [
    "class menyimpan sebuah tipe data dengan bentuk gradien (mx + b).\n",
    "Selain itu, cell ini berisi fungsi-fungsi dasar yang digunakan untuk machine learning."
   ]
  },
  {
   "cell_type": "code",
   "execution_count": 3,
   "id": "described-complaint",
   "metadata": {},
   "outputs": [],
   "source": [
    "# y = mx + b\n",
    "class Gradient:\n",
    "    def __init__(self, m, b):\n",
    "        self.m = m\n",
    "        self.b = b\n",
    "    def value(self, x):\n",
    "        return self.m * x + self.b\n",
    "    \n",
    "def Cost(x, y, gradient):\n",
    "    sum = 0\n",
    "    total_sample = x.shape[0]\n",
    "    for i in range(total_sample):\n",
    "        real = y[i]\n",
    "        hypothesis = gradient.value(x[i])\n",
    "        sum += (hypothesis - real)**2\n",
    "    return np.sum(sum / (2 * total_sample))\n",
    "\n",
    "def CostDerivative(x, y, gradient, biasDerivative=False):\n",
    "    sum = 0\n",
    "    total_sample = x.shape[0]\n",
    "    for i in range(total_sample):\n",
    "        real = y[i]\n",
    "        hypothesis = gradient.value(x[i])\n",
    "        if (biasDerivative): sum += hypothesis - real\n",
    "        else:                sum += (hypothesis - real) * x[i]\n",
    "    return np.sum(sum / total_sample)"
   ]
  },
  {
   "cell_type": "markdown",
   "id": "urban-deviation",
   "metadata": {},
   "source": [
    "### Fungsi-fungsi Machine Learning"
   ]
  },
  {
   "cell_type": "markdown",
   "id": "convertible-oregon",
   "metadata": {},
   "source": [
    "#### Regresi Linear\n",
    "\n",
    "Fungsi ini akan mengambil nilai awal m dan b.\n",
    "Kemudian akan melakukan loop sebanyak kombinasi yang kita inginkan.\n",
    "Contoh mTry 100 & bTry 100, maka akan mengecek 100 * 100 kombinasi m dan b\n",
    "Kemudian setiap iterasi akan dihitung nilai Cost nya.\n",
    "- Jika cost nya 0, berarti itu merupakan gradient terbaik, sehingga return langsung. \n",
    "- Jika tidak, nilai cost akan disimpan berdasarkan nilai terkecil yang didapatkan.\n",
    "Kemudian setelah seluruh kombinasi gradient dicoba, akan di return nilai gradient terbaik (cost terkecil).\n",
    "\n",
    "Fungsi Linear Regresi memiliki parameter:\n",
    "- x     = sebuah array input variable\n",
    "- y     = sebuah array output variable (target)\n",
    "- m     = nilai m awal\n",
    "- mStep = kenaikan nilai m untuk dicoba\n",
    "- mTry  = banyaknya percobaan terhadap kenaikan nilai m\n",
    "- b     = nilai b awal\n",
    "- bStep = kenaikan nilai b untuk dicoba\n",
    "- bTry  = banyaknya percobaan terhadap kenaikan nilai b"
   ]
  },
  {
   "cell_type": "code",
   "execution_count": 4,
   "id": "cubic-darwin",
   "metadata": {},
   "outputs": [],
   "source": [
    "def LinearRegression(x, y, m=0, mStep=0.1, mTry=1000, b=0, bStep=0.1, bTry=1000): \n",
    "    costBest = sys.maxsize\n",
    "    gradientBest = None\n",
    "    for i in range(mTry):\n",
    "        for j in range(bTry):\n",
    "            mTest = m + mStep * i\n",
    "            bTest = b + bStep * j\n",
    "            grad = Gradient(mTest, bTest)\n",
    "            result = Cost(x, y, grad)\n",
    "            if (result == 0): return grad\n",
    "            elif (result < costBest):\n",
    "                costBest = result\n",
    "                gradientBest = grad\n",
    "    return gradientBest"
   ]
  },
  {
   "cell_type": "markdown",
   "id": "steady-chassis",
   "metadata": {},
   "source": [
    "#### Batch Gradient Descent\n",
    "\n",
    "Fungsi ini akan memakai turunan fungsi Cost untuk mengkomputasi tebakan selanjutnya.\n",
    "mList, bList, dan cList adalah sebuah array untuk menyimpan setiap nilai yang kita komputasi.\n",
    "Kita memberikan fungsi jumlah iterasi untuk melakukan training terhadap dataset.\n",
    "Dari percobaan yang dilakukan, ini merupakan kesimpulan yang kami dapat:\n",
    "- Semakin banyak iterasi belum tentu menuju kepada nilai cost yang lebih sedikit. Kita hanya perlu melakukan iterasi sampai nilai cost berhenti untuk turun.\n",
    "- Semakin kecil learning rate akan memastikan grafik menyentuh nilai cost yang lebih pasti, menurun sedikit demi sedikit. Jika terlalu besar maka kita akan kehilangan detil terhadap penurunan nilai cost. Ini menyebabkan overshoot, grafik dapat naik dan turun tidak beraturan.\n",
    "\n",
    "Fungsi Gradient Descent memiliki parameter:\n",
    "- x     = sebuah array input variable\n",
    "- y     = sebuah array output variable (target)\n",
    "- m     = nilai m awal\n",
    "- b     = nilai b awal\n",
    "- iter  = jumlah iterasi untuk learning\n",
    "- learningRate = konstanta nilai learning rate"
   ]
  },
  {
   "cell_type": "code",
   "execution_count": null,
   "id": "adverse-hurricane",
   "metadata": {},
   "outputs": [],
   "source": [
    "def BatchGD(x, y, m, b, learningRate, iter):\n",
    "    mList = []\n",
    "    bList = []\n",
    "    cList = []\n",
    "    for i in range(iter):\n",
    "        cost_m = CostDerivative(x, y, Gradient(m, b), False)\n",
    "        cost_b = CostDerivative(x, y, Gradient(m, b), True)\n",
    "        m = m - learningRate * cost_m\n",
    "        b = b - learningRate * cost_b\n",
    "        c = Cost(x, y, Gradient(m, b))\n",
    "        mList.append(m)\n",
    "        bList.append(b)\n",
    "        cList.append(c)\n",
    "    return mList, bList, cList"
   ]
  },
  {
   "cell_type": "markdown",
   "id": "jewish-importance",
   "metadata": {},
   "source": [
    "#### Stochastic Gradient Descent\n",
    "\n",
    "Fungsi ini memakai turunan fungsi Cost berdasarkan data yang dievaluasi pada setiap loop.\n",
    "Loop akan melakukan iterasi keseluruh total sampel dari input variable.\n",
    "mList, bList, dan cList digunakan untuk menyimpan seluruh riwayat komputasi."
   ]
  },
  {
   "cell_type": "code",
   "execution_count": null,
   "id": "undefined-waters",
   "metadata": {},
   "outputs": [],
   "source": [
    "def StochasticGD(x, y, m, b, learningRate):\n",
    "    \n",
    "    def CostDerivative(x1, y1, m, b, biasDerivative=False):\n",
    "        hypothesis = Gradient(m, b).value(x1)\n",
    "        if (biasDerivative): return np.sum(hypothesis - y1)\n",
    "        else:                return np.sum((hypothesis - y1) * x1)\n",
    "    \n",
    "    mList = []\n",
    "    bList = []\n",
    "    cList = []\n",
    "    total_sample = x.shape[0]\n",
    "    for i in range(total_sample):\n",
    "        cost_m = CostDerivative(x[i], y[i], m, b, False)\n",
    "        cost_b = CostDerivative(x[i], y[i], m, b, True)\n",
    "        m = m - learningRate * cost_m\n",
    "        b = b - learningRate * cost_b\n",
    "        c = Cost(x, y, Gradient(m, b))\n",
    "        mList.append(m)\n",
    "        bList.append(b)\n",
    "        cList.append(c)\n",
    "    return mList, bList, cList"
   ]
  },
  {
   "cell_type": "markdown",
   "id": "departmental-matrix",
   "metadata": {},
   "source": [
    "Input file csv. Kemudian menentukan feature (kolom) mana yang akan digunakan sebagai input variable untuk proses learning.\n",
    "targets merupakan array yang digunakan untuk menyimpan variable output yang diharapkan.\n",
    "Menggunakan fungsi DrawMissing() untuk melihat input variable yang kosong. Jika kosong kita dapat mengisi dengan nilai median, mean, atau kosong."
   ]
  },
  {
   "cell_type": "code",
   "execution_count": 5,
   "id": "honest-patch",
   "metadata": {
    "scrolled": true
   },
   "outputs": [
    {
     "data": {
      "text/html": [
       "<div>\n",
       "<style scoped>\n",
       "    .dataframe tbody tr th:only-of-type {\n",
       "        vertical-align: middle;\n",
       "    }\n",
       "\n",
       "    .dataframe tbody tr th {\n",
       "        vertical-align: top;\n",
       "    }\n",
       "\n",
       "    .dataframe thead th {\n",
       "        text-align: right;\n",
       "    }\n",
       "</style>\n",
       "<table border=\"1\" class=\"dataframe\">\n",
       "  <thead>\n",
       "    <tr style=\"text-align: right;\">\n",
       "      <th></th>\n",
       "      <th>Total</th>\n",
       "      <th>Percent</th>\n",
       "    </tr>\n",
       "  </thead>\n",
       "  <tbody>\n",
       "    <tr>\n",
       "      <th>OverallCond</th>\n",
       "      <td>0</td>\n",
       "      <td>0.0</td>\n",
       "    </tr>\n",
       "  </tbody>\n",
       "</table>\n",
       "</div>"
      ],
      "text/plain": [
       "             Total  Percent\n",
       "OverallCond      0      0.0"
      ]
     },
     "metadata": {},
     "output_type": "display_data"
    }
   ],
   "source": [
    "datacsv  = pd.read_csv('../Dataset/house/train.csv')\n",
    "dataset  = pd.DataFrame(datacsv, columns = ['OverallCond'])\n",
    "targets  = pd.DataFrame(datacsv, columns = ['SalePrice'])\n",
    "\n",
    "missing_dataset = DrawMissing(dataset)\n",
    "display(missing_dataset)"
   ]
  },
  {
   "cell_type": "code",
   "execution_count": 6,
   "id": "suffering-assurance",
   "metadata": {},
   "outputs": [
    {
     "name": "stdout",
     "output_type": "stream",
     "text": [
      "   OverallCond\n",
      "0            5\n",
      "1            8\n",
      "2            5\n",
      "3            5\n",
      "4            5\n",
      "   SalePrice\n",
      "0     208500\n",
      "1     181500\n",
      "2     223500\n",
      "3     140000\n",
      "4     250000\n"
     ]
    }
   ],
   "source": [
    "print(dataset.head())\n",
    "print(targets.head())\n",
    "\n",
    "targets = targets.to_numpy()\n",
    "dataset = dataset.to_numpy()"
   ]
  },
  {
   "cell_type": "markdown",
   "id": "intended-edmonton",
   "metadata": {},
   "source": [
    "### Regresi Metode Statistika "
   ]
  },
  {
   "cell_type": "markdown",
   "id": "critical-participation",
   "metadata": {},
   "source": [
    "#### Paramaters for Guessing Gradient"
   ]
  },
  {
   "cell_type": "code",
   "execution_count": 7,
   "id": "comparable-honey",
   "metadata": {},
   "outputs": [],
   "source": [
    "mStart = 10\n",
    "mStep  = 0.5\n",
    "mIter  = 100\n",
    "bStart = 50000\n",
    "bStep  = 10000\n",
    "bIter  = 100"
   ]
  },
  {
   "cell_type": "code",
   "execution_count": 8,
   "id": "proved-hawaii",
   "metadata": {},
   "outputs": [
    {
     "name": "stdout",
     "output_type": "stream",
     "text": [
      "Cost:  3153837630.122603\n",
      "m:  10.0\n",
      "b:  180000\n"
     ]
    },
    {
     "data": {
      "image/png": "[encoded data removed]",
      "text/plain": [
       "<Figure size 432x288 with 1 Axes>"
      ]
     },
     "metadata": {
      "needs_background": "light"
     },
     "output_type": "display_data"
    }
   ],
   "source": [
    "best = LinearRegression(dataset, targets, mStart, mStep, mIter, bStart, bStep, bIter)\n",
    "\n",
    "minIndex = np.argmin(dataset)\n",
    "maxIndex = np.argmax(dataset)\n",
    "\n",
    "xGrad = [dataset[minIndex], dataset[maxIndex]]\n",
    "yGrad = [best.value(dataset[minIndex]), best.value(dataset[maxIndex])]\n",
    "\n",
    "print(\"Cost: \", Cost(dataset, targets, best))\n",
    "print(\"m: \", best.m)\n",
    "print(\"b: \", best.b)\n",
    "\n",
    "plt.scatter(dataset, targets, label='Data')\n",
    "plt.plot(xGrad, yGrad, color='Red', label='y = mx + b')\n",
    "plt.xlabel(\"X (Input)\")\n",
    "plt.ylabel(\"Y (Output)\")\n",
    "plt.legend()\n",
    "plt.show()"
   ]
  },
  {
   "cell_type": "markdown",
   "id": "positive-decline",
   "metadata": {},
   "source": [
    "#### Parameters for Using Gradient Descent"
   ]
  },
  {
   "cell_type": "code",
   "execution_count": 9,
   "id": "violent-amateur",
   "metadata": {},
   "outputs": [],
   "source": [
    "learningRate = 0.01\n",
    "iteration = 100\n",
    "mStart = 10\n",
    "bStart = 50000"
   ]
  },
  {
   "cell_type": "markdown",
   "id": "manufactured-charles",
   "metadata": {},
   "source": [
    "### Regresi Metode Batch Gradient Descent"
   ]
  },
  {
   "cell_type": "code",
   "execution_count": 10,
   "id": "random-frank",
   "metadata": {},
   "outputs": [
    {
     "name": "stdout",
     "output_type": "stream",
     "text": [
      "Minimum Cost:  3578796612.266454\n",
      "m:  20757.078664053923\n",
      "b:  59528.06864354252\n"
     ]
    },
    {
     "data": {
      "image/png": "[encoded data removed]",
      "text/plain": [
       "<Figure size 432x288 with 1 Axes>"
      ]
     },
     "metadata": {
      "needs_background": "light"
     },
     "output_type": "display_data"
    }
   ],
   "source": [
    "m, b, cost = BatchGD(dataset, targets, mStart, bStart, learningRate, iteration)\n",
    "\n",
    "minIndex = np.argmin(cost)\n",
    "print(\"Minimum Cost: \", cost[minIndex])\n",
    "print(\"m: \", m[minIndex])\n",
    "print(\"b: \", b[minIndex])\n",
    "\n",
    "ax = plt.axes(projection='3d')\n",
    "ax.plot3D(m, b, cost, 'Red')\n",
    "ax.set_xlabel('Weight (m)')\n",
    "ax.set_ylabel('Bias (b)')\n",
    "ax.set_zlabel('Cost (J)')\n",
    "ax.set_title('Batch Gradient Descent')\n",
    "plt.show()"
   ]
  },
  {
   "cell_type": "markdown",
   "id": "associate-shanghai",
   "metadata": {},
   "source": [
    "### Regresi Stokastik Gradient Descent"
   ]
  },
  {
   "cell_type": "code",
   "execution_count": 11,
   "id": "according-buffer",
   "metadata": {},
   "outputs": [
    {
     "name": "stdout",
     "output_type": "stream",
     "text": [
      "Minimum Cost:  3295599497.383145\n",
      "m:  10400.894054188933\n",
      "b:  120200.0717520865\n"
     ]
    },
    {
     "data": {
      "image/png": "[encoded data removed]",
      "text/plain": [
       "<Figure size 432x288 with 1 Axes>"
      ]
     },
     "metadata": {
      "needs_background": "light"
     },
     "output_type": "display_data"
    }
   ],
   "source": [
    "m, b, cost = StochasticGD(dataset, targets, mStart, bStart, learningRate)\n",
    "\n",
    "minIndex = np.argmin(cost)\n",
    "print(\"Minimum Cost: \", cost[minIndex])\n",
    "print(\"m: \", m[minIndex])\n",
    "print(\"b: \", b[minIndex])\n",
    "\n",
    "ax = plt.axes(projection='3d')\n",
    "ax.plot3D(m, b, cost, 'Red')\n",
    "ax.set_xlabel('Weight (m)')\n",
    "ax.set_ylabel('Bias (b)')\n",
    "ax.set_zlabel('Cost (J)')\n",
    "ax.set_title('Batch Gradient Descent')\n",
    "plt.show()"
   ]
  },
  {
   "cell_type": "markdown",
   "id": "streaming-cardiff",
   "metadata": {},
   "source": [
    "#### Kesimpulan\n",
    "\n",
    "Dari ketiga percobaan yang dilakukan, kita dapat menentukan harga rumah dari nilai gradient.\n",
    "Harga cost yang didapatkan masih sangat tinggi sehingga tidak confident untuk dipetakan ke data asli.\n",
    "Kami telah coba melakukan training dari beberapa input variable seperti LotArea, OverallCond, OverallQual, dll.\n",
    "Namun feature tersebut memiliki range yang sangat luas.\n",
    "\n",
    "> Hal ini kami duga karena satu input variable yang masih belum cukup untuk menentukan formula yang tepat bagi sebuah harga jual rumah. Sangat disayangkan dengan waktu yang terbatas ini, kami hanya dapat implementasi sebuah fungsi regresi yang mengolah satu input variable."
   ]
  }
 ],
 "metadata": {
  "kernelspec": {
   "display_name": "Python 3",
   "language": "python",
   "name": "python3"
  },
  "language_info": {
   "codemirror_mode": {
    "name": "ipython",
    "version": 3
   },
   "file_extension": ".py",
   "mimetype": "text/x-python",
   "name": "python",
   "nbconvert_exporter": "python",
   "pygments_lexer": "ipython3",
   "version": "3.9.2"
  }
 },
 "nbformat": 4,
 "nbformat_minor": 5
}
