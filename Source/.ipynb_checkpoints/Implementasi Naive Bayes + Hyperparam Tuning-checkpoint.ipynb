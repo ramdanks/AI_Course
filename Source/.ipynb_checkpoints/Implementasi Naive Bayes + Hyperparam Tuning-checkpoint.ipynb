{
 "cells": [
  {
   "cell_type": "markdown",
   "id": "mathematical-polyester",
   "metadata": {},
   "source": [
    "## Naive Bayes\n",
    "#### Tugas Non-ANN Classifier\n",
    "- Nama: Ramadhan Kalih Sewu\n",
    "- NPM: 1806148826\n",
    "- Grup: Krawu"
   ]
  },
  {
   "cell_type": "code",
   "execution_count": 1,
   "id": "lasting-potato",
   "metadata": {},
   "outputs": [],
   "source": [
    "import numpy as np\n",
    "from sklearn.naive_bayes import GaussianNB"
   ]
  },
  {
   "cell_type": "markdown",
   "id": "sublime-playlist",
   "metadata": {},
   "source": [
    "Fungsi ini akan memanggil Naive Bayes Gaussian dengan tambahan parameter weight (bobot). Bobot akan diterapkan kepada setiap elemen pada data yang akan dilatih. Ini memberikan nilai kelayakan terhadap suatu elemen dalam melakukan prediksi. Kemudian fungsi ini akan menampilkan akurasi dengan menghitung banyaknya prediksi yang sesuai dengan ekspektasi"
   ]
  },
  {
   "cell_type": "code",
   "execution_count": 2,
   "id": "roman-consciousness",
   "metadata": {},
   "outputs": [],
   "source": [
    "def TrainAndCheck(xTrain, yTrain, xTest, yTest, wParam):\n",
    "    gnb = GaussianNB()\n",
    "    gnb.fit(xTrain, yTrain, wParam)\n",
    "    yPred = gnb.predict(xTest)\n",
    "    accuracy = np.sum(yPred == yTest) / len(xTest)\n",
    "    print(\"Accuracy: %.2f (Percent)\" % (accuracy * 100))"
   ]
  },
  {
   "cell_type": "markdown",
   "id": "mobile-allen",
   "metadata": {},
   "source": [
    "Impor data dengan format csv menggunakan bantuan library pandas.\n",
    "- x : menyimpan dataset dari kolom sesuai argumen dibawah\n",
    "- y : menyimpan output / target yang diharapkan"
   ]
  },
  {
   "cell_type": "code",
   "execution_count": 3,
   "id": "overall-colleague",
   "metadata": {},
   "outputs": [],
   "source": [
    "import pandas as pd\n",
    "datacsv = pd.read_csv('../Dataset/Iris.csv')\n",
    "x = datacsv[['SepalLengthCm', 'SepalWidthCm', 'PetalLengthCm', 'PetalWidthCm']]\n",
    "y = datacsv.Species"
   ]
  },
  {
   "cell_type": "markdown",
   "id": "parliamentary-catering",
   "metadata": {},
   "source": [
    "Mengubah array ke format array milik numpy, karena saya lebih familiar dengan tipe ini"
   ]
  },
  {
   "cell_type": "code",
   "execution_count": 4,
   "id": "final-azerbaijan",
   "metadata": {},
   "outputs": [],
   "source": [
    "x = x.to_numpy()\n",
    "y = y.to_numpy()"
   ]
  },
  {
   "cell_type": "markdown",
   "id": "warming-degree",
   "metadata": {},
   "source": [
    "Fungsi ini dilakukan untuk membagi dan mengacak dataset namun tetap mempertahankan mapping index antara x dan y. Sebelum menemukan fungsi ini, saya melakukan pengambilan data secara manual. Karena fungsi in membuat potongan kode lebih mudah untuk dibaca, saya memilih untuk menggunakannya.\n",
    "- xTrain : 0-35, 50-85, 100-135 (dari variable x)\n",
    "- xTest  : 35-50, 85-100, 135-150 (dari variable x)\n",
    "- yTrain : 0-35, 50-85, 100-135 (dari variable y)\n",
    "- yTest  : 35-50, 85-100, 135-150 (dari variable y)"
   ]
  },
  {
   "cell_type": "code",
   "execution_count": 5,
   "id": "dying-gardening",
   "metadata": {},
   "outputs": [],
   "source": [
    "from sklearn.model_selection import train_test_split\n",
    "xTrain, xTest, yTrain, yTest = train_test_split(x, y, test_size=0.3)"
   ]
  },
  {
   "cell_type": "markdown",
   "id": "married-console",
   "metadata": {},
   "source": [
    "### Hyper Parameter\n",
    "Parameter ini adalah sebuah nilai yang ditentukan oleh sebuah data analyst untuk mengontrol proses training dataset. Parameter yang diatur tergantung terhadap metode classifier yang kita gunakan. Nilai yang diberi pada hyperparameter juga tidak pasti, kita dapat mencoba kemudian menebak angka yang cocok. Salah satu cara adalah dengan brute-force, mencoba sekian kombinasi hyperparameter kemudian mengambil nilai yang terbaik. Pada kesempatan kali ini saya mencoba secara manual dengan mengamati isi dataset. "
   ]
  },
  {
   "cell_type": "markdown",
   "id": "frank-telescope",
   "metadata": {},
   "source": [
    "wParam1:\n",
    "- Dari species 'Iris-versicolor', saya melihat bahwa kolom 'PetalLengthCm' mayoritas bernilai > 4\n",
    "- Nilai <= 4 untuk 'PetalLengthCm' merefleksikan nilai lainnya yang dibawah rata\"\n",
    "Dari situ, saya anggap bahwa sampel bunga ini mungkin masih dalam masa berkembang atau rusak. Karena hal tsb, relevansi elemen ini terhadap elemen lainnya dalam dataset berkurang. Dalam cell dibawah saya atur bobot untuk 'PetalLengthCm' bernilai <= 4 sebesar setengah dari bobot yang lainnya."
   ]
  },
  {
   "cell_type": "code",
   "execution_count": 6,
   "id": "written-joseph",
   "metadata": {},
   "outputs": [],
   "source": [
    "wParam1 = np.ones(len(xTrain))\n",
    "for i in range(len(xTrain)):\n",
    "    if (yTrain[i] == 'Iris-versicolor'):\n",
    "        if (xTrain[i][2] <= 4):\n",
    "            wParam1[i] = 0.5"
   ]
  },
  {
   "cell_type": "markdown",
   "id": "driving-enclosure",
   "metadata": {},
   "source": [
    "wParam2: Untuk parameter ini, saya iseng saja mengatur bobot species 'Iris-setosa' menjadi dua kali lebih besar."
   ]
  },
  {
   "cell_type": "code",
   "execution_count": 7,
   "id": "dried-philip",
   "metadata": {},
   "outputs": [],
   "source": [
    "wParam2 = np.ones(len(xTrain))\n",
    "for i in range(len(xTrain)):\n",
    "    if (yTrain[i] == 'Iris-setosa'):\n",
    "        wParam2[i] = 2"
   ]
  },
  {
   "cell_type": "markdown",
   "id": "paperback-christianity",
   "metadata": {},
   "source": [
    "Dengan perlakuan data training dan data testing yang sama, kita cek kebenaran prediksi Naive Bayes dengan:\n",
    "1. Semua elemen diberlakukan sama\n",
    "2. Elemen dengan bobot wParam1\n",
    "3. Elemen dengan bobot wParam2"
   ]
  },
  {
   "cell_type": "code",
   "execution_count": 8,
   "id": "colored-amber",
   "metadata": {},
   "outputs": [
    {
     "name": "stdout",
     "output_type": "stream",
     "text": [
      "Accuracy: 95.56 (Percent)\n",
      "Accuracy: 97.78 (Percent)\n",
      "Accuracy: 95.56 (Percent)\n"
     ]
    }
   ],
   "source": [
    "TrainAndCheck(xTrain, yTrain, xTest, yTest, None)\n",
    "TrainAndCheck(xTrain, yTrain, xTest, yTest, wParam1)\n",
    "TrainAndCheck(xTrain, yTrain, xTest, yTest, wParam2)"
   ]
  },
  {
   "cell_type": "markdown",
   "id": "bigger-passenger",
   "metadata": {},
   "source": [
    "Setelah percobaan berulang-ulang kali, saya menemukan bahwa kadang-kala wParam1 memberikan akurasi yang sedikit lebih tinggi."
   ]
  }
 ],
 "metadata": {
  "kernelspec": {
   "display_name": "Python 3",
   "language": "python",
   "name": "python3"
  },
  "language_info": {
   "codemirror_mode": {
    "name": "ipython",
    "version": 3
   },
   "file_extension": ".py",
   "mimetype": "text/x-python",
   "name": "python",
   "nbconvert_exporter": "python",
   "pygments_lexer": "ipython3",
   "version": "3.9.2"
  }
 },
 "nbformat": 4,
 "nbformat_minor": 5
}
