{
 "cells": [
  {
   "cell_type": "markdown",
   "id": "breathing-yacht",
   "metadata": {},
   "source": [
    "### TI - ANN - BPNN\n",
    "- Nama: Ramadhan Kalih Sewu\n",
    "- NPM: 1806148826"
   ]
  },
  {
   "cell_type": "code",
   "execution_count": 1,
   "id": "ordinary-appendix",
   "metadata": {},
   "outputs": [],
   "source": [
    "import numpy as np\n",
    "import math\n",
    "import matplotlib.pyplot as plt\n",
    "from prettytable import PrettyTable"
   ]
  },
  {
   "cell_type": "markdown",
   "id": "textile-maximum",
   "metadata": {},
   "source": [
    "### Activation Function\n",
    "Kita menggunakan fungsi logistic yang membentuk lengkungan sigmoid dengan range 0 - 1. Fungsi ini akan mengkomputasi output yang kita gunakan sebagai penentu klasifikasi dari ANN. inputnya diambil dari jumlah weighted (beban/bobot) yang dikomputasi pada neuron ANN."
   ]
  },
  {
   "cell_type": "code",
   "execution_count": 2,
   "id": "comparative-operation",
   "metadata": {},
   "outputs": [],
   "source": [
    "def sigmoid(x):\n",
    "    return 1 / (1 + np.exp(-x))\n",
    "def der_sigmoid(x):\n",
    "    return sigmoid(x) * (1 - sigmoid(x))"
   ]
  },
  {
   "cell_type": "markdown",
   "id": "several-meditation",
   "metadata": {},
   "source": [
    "### Recognition Rate\n",
    "Recognition rate akan menggunakan confusion matrix agar dapat menampilkan banyaknya nilai prediksi yang sesuai dengan nilai aslinya."
   ]
  },
  {
   "cell_type": "code",
   "execution_count": 3,
   "id": "annual-april",
   "metadata": {},
   "outputs": [],
   "source": [
    "# pembulatan ke nilai terdekat kelipatan 0.5\n",
    "def roundhalf(num):\n",
    "    return np.round(num * 2) / 2"
   ]
  },
  {
   "cell_type": "code",
   "execution_count": 4,
   "id": "baking-combat",
   "metadata": {},
   "outputs": [],
   "source": [
    "# Plot confusion matrix berdasarkan data output prediksi dan ekspektasi\n",
    "import seaborn as sns\n",
    "from sklearn.metrics import confusion_matrix\n",
    "def PlotConfusionMatrix(title, ax, y_true, y_pred):\n",
    "    \n",
    "    # hitung akurasi (hitung 1-1 banyaknya kesamaan pada prediksi dan ekspektasi)\n",
    "    acc = np.sum(y_pred == y_true) / len(y_true) * 100.0\n",
    "    \n",
    "    # ubah ke bentuk string, fungsi confusion_matrix expect sebuah nilai\n",
    "    # kategorikal bukan nilai yang continous\n",
    "    y_true = y_true.astype(dtype='O')\n",
    "    y_pred = y_pred.astype(dtype='O')\n",
    "    \n",
    "    # plot dengan normalisasi\n",
    "    labels = ['Iris-setosa', 'Iris-virginica', 'Iris-versicolor']\n",
    "    cm = confusion_matrix(y_true, y_pred, normalize='pred')\n",
    "    f = sns.heatmap(cm, annot=True, ax=ax, cmap='Blues',\n",
    "                   xticklabels=labels, yticklabels=labels)\n",
    "    \n",
    "    ax.set_xlabel('Predicted labels\\n Accuracy: %.4f' % acc);\n",
    "    ax.set_ylabel('True labels');\n",
    "    ax.set_title(title);"
   ]
  },
  {
   "cell_type": "code",
   "execution_count": 5,
   "id": "wanted-endorsement",
   "metadata": {},
   "outputs": [],
   "source": [
    "# ### Akurasi Prediksi\n",
    "# Menggunakan fungsi aktivasi sigmoid untuk menghitung score atau akurasi dari prediksi gradient yang kita berikan.\n",
    "# - x: input variabel dari data yang di test\n",
    "# - y: output sebenarnya dari data yang di test\n",
    "# - weights: gradient bobot prediksi\n",
    "# - bias: gradient bias prediksi\n",
    "\n",
    "def TestScore(x, y, weights, bias):\n",
    "    res = np.dot(x, weights) + bias\n",
    "    res = sigmoid(res)\n",
    "    score = y - abs(y - res)\n",
    "    return score.mean()"
   ]
  },
  {
   "cell_type": "markdown",
   "id": "analyzed-variation",
   "metadata": {},
   "source": [
    "### Data Uji Coba\n",
    "Kita ambil data iris pada percobaan sebelumnya dengan output (Y) sebagai species, yaitu data kategorikal. Kemudian kolom lainnya kita gunakan sebagai fitur dalam model ini."
   ]
  },
  {
   "cell_type": "code",
   "execution_count": 6,
   "id": "aware-recipe",
   "metadata": {},
   "outputs": [],
   "source": [
    "import pandas as pd\n",
    "datacsv = pd.read_csv('../Dataset/Iris.csv')\n",
    "feature = ['SepalLengthCm', 'SepalWidthCm', 'PetalLengthCm', 'PetalWidthCm']\n",
    "x = datacsv[feature]\n",
    "y = datacsv.Species"
   ]
  },
  {
   "cell_type": "code",
   "execution_count": 7,
   "id": "center-logic",
   "metadata": {},
   "outputs": [],
   "source": [
    "x = x.to_numpy()\n",
    "y = y.to_numpy()"
   ]
  },
  {
   "cell_type": "markdown",
   "id": "bigger-salad",
   "metadata": {},
   "source": [
    "Cek hasil input data dengan menampilkan tabel dibawah."
   ]
  },
  {
   "cell_type": "code",
   "execution_count": 8,
   "id": "progressive-relief",
   "metadata": {},
   "outputs": [
    {
     "name": "stdout",
     "output_type": "stream",
     "text": [
      "+---------------+--------------+---------------+--------------+-----------------+\n",
      "| SepalLengthCm | SepalWidthCm | PetalLengthCm | PetalWidthCm |     Species     |\n",
      "+---------------+--------------+---------------+--------------+-----------------+\n",
      "|      5.1      |     3.5      |      1.4      |     0.2      |   Iris-setosa   |\n",
      "|      4.9      |     3.0      |      1.4      |     0.2      |   Iris-setosa   |\n",
      "|      4.7      |     3.2      |      1.3      |     0.2      |   Iris-setosa   |\n",
      "|      4.6      |     3.1      |      1.5      |     0.2      |   Iris-setosa   |\n",
      "|      5.0      |     3.6      |      1.4      |     0.2      |   Iris-setosa   |\n",
      "|      5.4      |     3.9      |      1.7      |     0.4      |   Iris-setosa   |\n",
      "|      4.6      |     3.4      |      1.4      |     0.3      |   Iris-setosa   |\n",
      "|      5.0      |     3.4      |      1.5      |     0.2      |   Iris-setosa   |\n",
      "|      4.4      |     2.9      |      1.4      |     0.2      |   Iris-setosa   |\n",
      "|      4.9      |     3.1      |      1.5      |     0.1      |   Iris-setosa   |\n",
      "|      5.4      |     3.7      |      1.5      |     0.2      |   Iris-setosa   |\n",
      "|      4.8      |     3.4      |      1.6      |     0.2      |   Iris-setosa   |\n",
      "|      4.8      |     3.0      |      1.4      |     0.1      |   Iris-setosa   |\n",
      "|      4.3      |     3.0      |      1.1      |     0.1      |   Iris-setosa   |\n",
      "|      5.8      |     4.0      |      1.2      |     0.2      |   Iris-setosa   |\n",
      "|      5.7      |     4.4      |      1.5      |     0.4      |   Iris-setosa   |\n",
      "|      5.4      |     3.9      |      1.3      |     0.4      |   Iris-setosa   |\n",
      "|      5.1      |     3.5      |      1.4      |     0.3      |   Iris-setosa   |\n",
      "|      5.7      |     3.8      |      1.7      |     0.3      |   Iris-setosa   |\n",
      "|      5.1      |     3.8      |      1.5      |     0.3      |   Iris-setosa   |\n",
      "|      5.4      |     3.4      |      1.7      |     0.2      |   Iris-setosa   |\n",
      "|      5.1      |     3.7      |      1.5      |     0.4      |   Iris-setosa   |\n",
      "|      4.6      |     3.6      |      1.0      |     0.2      |   Iris-setosa   |\n",
      "|      5.1      |     3.3      |      1.7      |     0.5      |   Iris-setosa   |\n",
      "|      4.8      |     3.4      |      1.9      |     0.2      |   Iris-setosa   |\n",
      "|      5.0      |     3.0      |      1.6      |     0.2      |   Iris-setosa   |\n",
      "|      5.0      |     3.4      |      1.6      |     0.4      |   Iris-setosa   |\n",
      "|      5.2      |     3.5      |      1.5      |     0.2      |   Iris-setosa   |\n",
      "|      5.2      |     3.4      |      1.4      |     0.2      |   Iris-setosa   |\n",
      "|      4.7      |     3.2      |      1.6      |     0.2      |   Iris-setosa   |\n",
      "|      4.8      |     3.1      |      1.6      |     0.2      |   Iris-setosa   |\n",
      "|      5.4      |     3.4      |      1.5      |     0.4      |   Iris-setosa   |\n",
      "|      5.2      |     4.1      |      1.5      |     0.1      |   Iris-setosa   |\n",
      "|      5.5      |     4.2      |      1.4      |     0.2      |   Iris-setosa   |\n",
      "|      4.9      |     3.1      |      1.5      |     0.1      |   Iris-setosa   |\n",
      "|      5.0      |     3.2      |      1.2      |     0.2      |   Iris-setosa   |\n",
      "|      5.5      |     3.5      |      1.3      |     0.2      |   Iris-setosa   |\n",
      "|      4.9      |     3.1      |      1.5      |     0.1      |   Iris-setosa   |\n",
      "|      4.4      |     3.0      |      1.3      |     0.2      |   Iris-setosa   |\n",
      "|      5.1      |     3.4      |      1.5      |     0.2      |   Iris-setosa   |\n",
      "|      5.0      |     3.5      |      1.3      |     0.3      |   Iris-setosa   |\n",
      "|      4.5      |     2.3      |      1.3      |     0.3      |   Iris-setosa   |\n",
      "|      4.4      |     3.2      |      1.3      |     0.2      |   Iris-setosa   |\n",
      "|      5.0      |     3.5      |      1.6      |     0.6      |   Iris-setosa   |\n",
      "|      5.1      |     3.8      |      1.9      |     0.4      |   Iris-setosa   |\n",
      "|      4.8      |     3.0      |      1.4      |     0.3      |   Iris-setosa   |\n",
      "|      5.1      |     3.8      |      1.6      |     0.2      |   Iris-setosa   |\n",
      "|      4.6      |     3.2      |      1.4      |     0.2      |   Iris-setosa   |\n",
      "|      5.3      |     3.7      |      1.5      |     0.2      |   Iris-setosa   |\n",
      "|      5.0      |     3.3      |      1.4      |     0.2      |   Iris-setosa   |\n",
      "|      7.0      |     3.2      |      4.7      |     1.4      | Iris-versicolor |\n",
      "|      6.4      |     3.2      |      4.5      |     1.5      | Iris-versicolor |\n",
      "|      6.9      |     3.1      |      4.9      |     1.5      | Iris-versicolor |\n",
      "|      5.5      |     2.3      |      4.0      |     1.3      | Iris-versicolor |\n",
      "|      6.5      |     2.8      |      4.6      |     1.5      | Iris-versicolor |\n",
      "|      5.7      |     2.8      |      4.5      |     1.3      | Iris-versicolor |\n",
      "|      6.3      |     3.3      |      4.7      |     1.6      | Iris-versicolor |\n",
      "|      4.9      |     2.4      |      3.3      |     1.0      | Iris-versicolor |\n",
      "|      6.6      |     2.9      |      4.6      |     1.3      | Iris-versicolor |\n",
      "|      5.2      |     2.7      |      3.9      |     1.4      | Iris-versicolor |\n",
      "|      5.0      |     2.0      |      3.5      |     1.0      | Iris-versicolor |\n",
      "|      5.9      |     3.0      |      4.2      |     1.5      | Iris-versicolor |\n",
      "|      6.0      |     2.2      |      4.0      |     1.0      | Iris-versicolor |\n",
      "|      6.1      |     2.9      |      4.7      |     1.4      | Iris-versicolor |\n",
      "|      5.6      |     2.9      |      3.6      |     1.3      | Iris-versicolor |\n",
      "|      6.7      |     3.1      |      4.4      |     1.4      | Iris-versicolor |\n",
      "|      5.6      |     3.0      |      4.5      |     1.5      | Iris-versicolor |\n",
      "|      5.8      |     2.7      |      4.1      |     1.0      | Iris-versicolor |\n",
      "|      6.2      |     2.2      |      4.5      |     1.5      | Iris-versicolor |\n",
      "|      5.6      |     2.5      |      3.9      |     1.1      | Iris-versicolor |\n",
      "|      5.9      |     3.2      |      4.8      |     1.8      | Iris-versicolor |\n",
      "|      6.1      |     2.8      |      4.0      |     1.3      | Iris-versicolor |\n",
      "|      6.3      |     2.5      |      4.9      |     1.5      | Iris-versicolor |\n",
      "|      6.1      |     2.8      |      4.7      |     1.2      | Iris-versicolor |\n",
      "|      6.4      |     2.9      |      4.3      |     1.3      | Iris-versicolor |\n",
      "|      6.6      |     3.0      |      4.4      |     1.4      | Iris-versicolor |\n",
      "|      6.8      |     2.8      |      4.8      |     1.4      | Iris-versicolor |\n",
      "|      6.7      |     3.0      |      5.0      |     1.7      | Iris-versicolor |\n",
      "|      6.0      |     2.9      |      4.5      |     1.5      | Iris-versicolor |\n",
      "|      5.7      |     2.6      |      3.5      |     1.0      | Iris-versicolor |\n",
      "|      5.5      |     2.4      |      3.8      |     1.1      | Iris-versicolor |\n",
      "|      5.5      |     2.4      |      3.7      |     1.0      | Iris-versicolor |\n",
      "|      5.8      |     2.7      |      3.9      |     1.2      | Iris-versicolor |\n",
      "|      6.0      |     2.7      |      5.1      |     1.6      | Iris-versicolor |\n",
      "|      5.4      |     3.0      |      4.5      |     1.5      | Iris-versicolor |\n",
      "|      6.0      |     3.4      |      4.5      |     1.6      | Iris-versicolor |\n",
      "|      6.7      |     3.1      |      4.7      |     1.5      | Iris-versicolor |\n",
      "|      6.3      |     2.3      |      4.4      |     1.3      | Iris-versicolor |\n",
      "|      5.6      |     3.0      |      4.1      |     1.3      | Iris-versicolor |\n",
      "|      5.5      |     2.5      |      4.0      |     1.3      | Iris-versicolor |\n",
      "|      5.5      |     2.6      |      4.4      |     1.2      | Iris-versicolor |\n",
      "|      6.1      |     3.0      |      4.6      |     1.4      | Iris-versicolor |\n",
      "|      5.8      |     2.6      |      4.0      |     1.2      | Iris-versicolor |\n",
      "|      5.0      |     2.3      |      3.3      |     1.0      | Iris-versicolor |\n",
      "|      5.6      |     2.7      |      4.2      |     1.3      | Iris-versicolor |\n",
      "|      5.7      |     3.0      |      4.2      |     1.2      | Iris-versicolor |\n",
      "|      5.7      |     2.9      |      4.2      |     1.3      | Iris-versicolor |\n",
      "|      6.2      |     2.9      |      4.3      |     1.3      | Iris-versicolor |\n",
      "|      5.1      |     2.5      |      3.0      |     1.1      | Iris-versicolor |\n",
      "|      5.7      |     2.8      |      4.1      |     1.3      | Iris-versicolor |\n",
      "|      6.3      |     3.3      |      6.0      |     2.5      |  Iris-virginica |\n",
      "|      5.8      |     2.7      |      5.1      |     1.9      |  Iris-virginica |\n",
      "|      7.1      |     3.0      |      5.9      |     2.1      |  Iris-virginica |\n",
      "|      6.3      |     2.9      |      5.6      |     1.8      |  Iris-virginica |\n",
      "|      6.5      |     3.0      |      5.8      |     2.2      |  Iris-virginica |\n",
      "|      7.6      |     3.0      |      6.6      |     2.1      |  Iris-virginica |\n",
      "|      4.9      |     2.5      |      4.5      |     1.7      |  Iris-virginica |\n",
      "|      7.3      |     2.9      |      6.3      |     1.8      |  Iris-virginica |\n",
      "|      6.7      |     2.5      |      5.8      |     1.8      |  Iris-virginica |\n",
      "|      7.2      |     3.6      |      6.1      |     2.5      |  Iris-virginica |\n",
      "|      6.5      |     3.2      |      5.1      |     2.0      |  Iris-virginica |\n",
      "|      6.4      |     2.7      |      5.3      |     1.9      |  Iris-virginica |\n",
      "|      6.8      |     3.0      |      5.5      |     2.1      |  Iris-virginica |\n",
      "|      5.7      |     2.5      |      5.0      |     2.0      |  Iris-virginica |\n",
      "|      5.8      |     2.8      |      5.1      |     2.4      |  Iris-virginica |\n",
      "|      6.4      |     3.2      |      5.3      |     2.3      |  Iris-virginica |\n",
      "|      6.5      |     3.0      |      5.5      |     1.8      |  Iris-virginica |\n",
      "|      7.7      |     3.8      |      6.7      |     2.2      |  Iris-virginica |\n",
      "|      7.7      |     2.6      |      6.9      |     2.3      |  Iris-virginica |\n",
      "|      6.0      |     2.2      |      5.0      |     1.5      |  Iris-virginica |\n",
      "|      6.9      |     3.2      |      5.7      |     2.3      |  Iris-virginica |\n",
      "|      5.6      |     2.8      |      4.9      |     2.0      |  Iris-virginica |\n",
      "|      7.7      |     2.8      |      6.7      |     2.0      |  Iris-virginica |\n",
      "|      6.3      |     2.7      |      4.9      |     1.8      |  Iris-virginica |\n",
      "|      6.7      |     3.3      |      5.7      |     2.1      |  Iris-virginica |\n",
      "|      7.2      |     3.2      |      6.0      |     1.8      |  Iris-virginica |\n",
      "|      6.2      |     2.8      |      4.8      |     1.8      |  Iris-virginica |\n",
      "|      6.1      |     3.0      |      4.9      |     1.8      |  Iris-virginica |\n",
      "|      6.4      |     2.8      |      5.6      |     2.1      |  Iris-virginica |\n",
      "|      7.2      |     3.0      |      5.8      |     1.6      |  Iris-virginica |\n",
      "|      7.4      |     2.8      |      6.1      |     1.9      |  Iris-virginica |\n",
      "|      7.9      |     3.8      |      6.4      |     2.0      |  Iris-virginica |\n",
      "|      6.4      |     2.8      |      5.6      |     2.2      |  Iris-virginica |\n",
      "|      6.3      |     2.8      |      5.1      |     1.5      |  Iris-virginica |\n",
      "|      6.1      |     2.6      |      5.6      |     1.4      |  Iris-virginica |\n",
      "|      7.7      |     3.0      |      6.1      |     2.3      |  Iris-virginica |\n",
      "|      6.3      |     3.4      |      5.6      |     2.4      |  Iris-virginica |\n",
      "|      6.4      |     3.1      |      5.5      |     1.8      |  Iris-virginica |\n",
      "|      6.0      |     3.0      |      4.8      |     1.8      |  Iris-virginica |\n",
      "|      6.9      |     3.1      |      5.4      |     2.1      |  Iris-virginica |\n",
      "|      6.7      |     3.1      |      5.6      |     2.4      |  Iris-virginica |\n",
      "|      6.9      |     3.1      |      5.1      |     2.3      |  Iris-virginica |\n",
      "|      5.8      |     2.7      |      5.1      |     1.9      |  Iris-virginica |\n",
      "|      6.8      |     3.2      |      5.9      |     2.3      |  Iris-virginica |\n",
      "|      6.7      |     3.3      |      5.7      |     2.5      |  Iris-virginica |\n",
      "|      6.7      |     3.0      |      5.2      |     2.3      |  Iris-virginica |\n",
      "|      6.3      |     2.5      |      5.0      |     1.9      |  Iris-virginica |\n",
      "|      6.5      |     3.0      |      5.2      |     2.0      |  Iris-virginica |\n",
      "|      6.2      |     3.4      |      5.4      |     2.3      |  Iris-virginica |\n",
      "|      5.9      |     3.0      |      5.1      |     1.8      |  Iris-virginica |\n",
      "+---------------+--------------+---------------+--------------+-----------------+\n"
     ]
    }
   ],
   "source": [
    "def TabulateIris(x, y):\n",
    "    t = PrettyTable(feature)\n",
    "    t.add_rows(x)\n",
    "    t.add_column('Species', y)\n",
    "    print(t)\n",
    "    \n",
    "TabulateIris(x, y)"
   ]
  },
  {
   "cell_type": "markdown",
   "id": "dramatic-tournament",
   "metadata": {},
   "source": [
    "Tipe data kategorikal jika diproses dalam Neural network perlu disesuaikan agar berbentuk numerik. Salah satu cara adalah dengan Integer Encoding dimana mengubah ke suatu nilai integer. Ini mempermudah kita memproses hasil output dari neural network yang kita bangun. Cara lain adalah dengan membuat One Hot Encoding. Saya menghindari teknik ini karena ini agak rumit di-implementasi. Disini saya menggunakan 0.0, 0.5 dan 1.0 karena menyesuaikan dengan fungsi aktivasi sigmoid."
   ]
  },
  {
   "cell_type": "code",
   "execution_count": 9,
   "id": "domestic-identity",
   "metadata": {},
   "outputs": [],
   "source": [
    "# y1 = [1 if i == 'Iris-setosa'     else 0 for i in yTrain]\n",
    "# y2 = [1 if i == 'Iris-versicolor' else 0 for i in yTrain]\n",
    "# y3 = [1 if i == 'Iris-virginica'  else 0 for i in yTrain]\n",
    "\n",
    "Encoding = [['Iris-virginica', 0.0], ['Iris-versicolor', 0.5], ['Iris-setosa', 1.0]]\n",
    "\n",
    "def Encode(y):\n",
    "    temp = np.empty(len(y), dtype='float64')\n",
    "    for i in range(len(y)):\n",
    "        if   (y[i] == Encoding[0][0]):  temp[i] = Encoding[0][1]\n",
    "        elif (y[i] == Encoding[1][0]):  temp[i] = Encoding[1][1]\n",
    "        else:                           temp[i] = Encoding[2][1]\n",
    "    return temp\n",
    "            \n",
    "#decoding\n",
    "def Decode(y):\n",
    "    temp = np.empty(len(y), dtype='O')\n",
    "    for i in range(len(y)):\n",
    "        if   (y[i] == Encoding[0][1]):  temp[i] = Encoding[0][0]\n",
    "        elif (y[i] == Encoding[1][1]):  temp[i] = Encoding[1][0]\n",
    "        else:                           temp[i] = Encoding[2][0]\n",
    "    return temp"
   ]
  },
  {
   "cell_type": "markdown",
   "id": "operational-current",
   "metadata": {},
   "source": [
    "Split testing dan training data menggunakan fungsi bawaaan sklearn. Selain membagi dengan rasio 70-30, ini membantu juga mengacak data sehingga membantu proses learning mendapatkan hasil yang lebih akurat dengan menghindari overfitting."
   ]
  },
  {
   "cell_type": "code",
   "execution_count": 10,
   "id": "distant-corporation",
   "metadata": {},
   "outputs": [
    {
     "name": "stdout",
     "output_type": "stream",
     "text": [
      "[0.  0.  0.  0.5 0.5 0.5 0.5 1.  0.5 0.  0.5 1.  1.  0.  0.5 1.  0.  0.5\n",
      " 1.  1.  0.5 0.5 1.  0.5 0.5 0.5 0.5 0.  0.  1.  0.5 0.5 1.  1.  0.  0.5\n",
      " 0.  1.  1.  1.  1.  0.  1.  1.  0.5 0.5 1.  1.  0.  0.  0.  0.5 1.  0.\n",
      " 1.  0.  0.5 0.  1.  0.  0.  0.5 1.  1.  0.5 1.  0.  0.5 0.5 0.  0.  1.\n",
      " 1.  0.5 0.  0.5 1.  0.5 0.5 0.  1.  1.  0.  0.  0.  0.5 0.5 0.5 1.  0.\n",
      " 0.5 0.  1.  0.5 0.5 0.5 1.  0.  0.5 0.5 0.5 1.  0.5 0.  0.5]\n"
     ]
    }
   ],
   "source": [
    "from sklearn.model_selection import train_test_split\n",
    "xTrain, xTest, yTrain, yTest = train_test_split(x, y, test_size=0.3)\n",
    "\n",
    "yTrain = Encode(yTrain)\n",
    "print(yTrain)"
   ]
  },
  {
   "cell_type": "markdown",
   "id": "comfortable-incident",
   "metadata": {},
   "source": [
    "### Training Parameter\n",
    "Kita menentukan bias, bobot, dan learning rate untuk digunakan dalam gradient descent. Nilai dibawah dapat kita tentukan secara random dengan rentang -0.5 - 0.5. Gradient descent akan berangkat dari nilai acak berikut dan secara bertahap memperbaruinya agar sesuai dengan output pada data training."
   ]
  },
  {
   "cell_type": "code",
   "execution_count": 11,
   "id": "white-australia",
   "metadata": {},
   "outputs": [
    {
     "name": "stdout",
     "output_type": "stream",
     "text": [
      "+---------------------------------------------------------------------------------------+\n",
      "|                                Starting Gradient Value                                |\n",
      "+----------------------+---------------------+--------------------+---------------------+\n",
      "|    SepalLengthCm     |     SepalWidthCm    |   PetalLengthCm    |     PetalWidthCm    |\n",
      "+----------------------+---------------------+--------------------+---------------------+\n",
      "| -0.37686160243009403 | 0.35693232804502784 | 0.3926852896264075 | -0.3569760103383658 |\n",
      "+----------------------+---------------------+--------------------+---------------------+\n"
     ]
    }
   ],
   "source": [
    "learning_rate = [0.0001, 0.0005, 1]\n",
    "initBias = 0.2\n",
    "\n",
    "from random import uniform\n",
    "initWeights = [uniform(-0.5, 0.5) for i in range(len(feature))]\n",
    "\n",
    "t = PrettyTable(feature)\n",
    "t.title = \"Starting Gradient Value\"\n",
    "t.add_row(initWeights)\n",
    "print(t)"
   ]
  },
  {
   "cell_type": "code",
   "execution_count": 12,
   "id": "tested-reviewer",
   "metadata": {},
   "outputs": [],
   "source": [
    "listScore = []\n",
    "listWeights = []\n",
    "listBias = []"
   ]
  },
  {
   "cell_type": "markdown",
   "id": "lovely-greek",
   "metadata": {},
   "source": [
    "### Training the Neural Network\n",
    "Dalam proses ini, kita melakukan dua buah langkah yaitu:\n",
    "- Feed forward: Mendapatkan inisiasi output, proses ini terdiri dari\n",
    "  - (1) Membuat Input Layer\n",
    "  - (2) Menambah Bobot dan Bias\n",
    "  - (3) Menambah Output Layer\n",
    "  - (4) Hitung Kalkulasi Bobot dari Input\n",
    "  - (5) Prediksi output dengan Fungsi Aktivasi\n",
    "- Back propagation: Proses memperbarui bobot agar memperkecil error\n",
    "  - (1) Hitung error\n",
    "  - (2) Gunakan algoritma gradient descent\n",
    "  - (3) Perbarui bobot\n",
    "  - (4) Perbarui bias\n",
    "  - (5) Lakukan sebanyak n untuk meningkatkan akurasi"
   ]
  },
  {
   "cell_type": "code",
   "execution_count": 13,
   "id": "improved-concentration",
   "metadata": {},
   "outputs": [
    {
     "name": "stderr",
     "output_type": "stream",
     "text": [
      "<ipython-input-2-e247268f79c5>:2: RuntimeWarning: overflow encountered in exp\n",
      "  return 1 / (1 + np.exp(-x))\n"
     ]
    }
   ],
   "source": [
    "# n atau banyaknya iterasi untuk gradient descent\n",
    "for lrate in learning_rate:\n",
    "    epochs = 500\n",
    "    score = []\n",
    "    weights = initWeights\n",
    "    bias = initBias\n",
    "    for epoch in range(epochs):\n",
    "\n",
    "        # menggunakan dot product untuk menghitung kalkulasi bobot\n",
    "        wSum = np.dot(xTrain, weights) + bias\n",
    "        res = sigmoid(wSum)\n",
    "\n",
    "        # hitung error dari prediksi menggunakan fungsi aktivasi\n",
    "        err = res - yTrain\n",
    "        errSum = np.square(err).mean()\n",
    "\n",
    "        # metode gradient descent untuk memperkecil error\n",
    "        der1 = err\n",
    "        der2 = der_sigmoid(res)\n",
    "        derivative = der1 * der2\n",
    "\n",
    "        transposed_x = xTrain.T\n",
    "        final_derivative = np.dot(transposed_x, derivative)\n",
    "\n",
    "        # perbarui weights dan bias berdasarkan turunan fungsi sigmoid\n",
    "        weights = weights - lrate * final_derivative\n",
    "        \n",
    "        for i in derivative:\n",
    "            bias = bias - lrate * i\n",
    "\n",
    "        # prediksi dengan fungsi aktivasi dan hitung score nya\n",
    "        score.append(TestScore(xTrain, yTrain, weights, bias))\n",
    "    \n",
    "    # simpan kalkulasi tiap learning rate yang dicoba\n",
    "    listScore.append(score)\n",
    "    listBias.append(bias)\n",
    "    listWeights.append(weights)"
   ]
  },
  {
   "cell_type": "markdown",
   "id": "sitting-eagle",
   "metadata": {},
   "source": [
    "### Result\n",
    "Gradient hasil komputasi pada learning dapat digunakan sebagai formula untuk menghasilkan prediksi yang kita inginkan. Berikut adalah hasil weights dan bias pada epoch terakhir (500) yang umumnya merupakan gradient terbaik yang fit ke model training."
   ]
  },
  {
   "cell_type": "code",
   "execution_count": 14,
   "id": "continued-requirement",
   "metadata": {},
   "outputs": [
    {
     "name": "stdout",
     "output_type": "stream",
     "text": [
      "+------------------------------------------------------------------------------------------------+\n",
      "|                                 Gradient Computed in Learning                                  |\n",
      "+---------------+-----------------------------------------------------------+--------------------+\n",
      "| Learning Rate |                          Weights                          |        Bias        |\n",
      "+---------------+-----------------------------------------------------------+--------------------+\n",
      "|     0.0001    |     [-0.27209717  0.57979755  0.01689932 -0.55228381]     | 0.2584411494326678 |\n",
      "|     0.0005    |     [-0.02004629  0.91895776 -0.50620967 -0.87034043]     | 0.3702718540715241 |\n",
      "|       1       | [ 122.56900555  118.3250806  -167.3105264  -178.79156247] | 75.51815828403107  |\n",
      "+---------------+-----------------------------------------------------------+--------------------+\n"
     ]
    }
   ],
   "source": [
    "t = PrettyTable()\n",
    "t.title = \"Gradient Computed in Learning\"\n",
    "t.add_column(\"Learning Rate\", learning_rate)\n",
    "t.add_column(\"Weights\", listWeights)\n",
    "t.add_column(\"Bias\", listBias)\n",
    "print(t)"
   ]
  },
  {
   "cell_type": "markdown",
   "id": "bearing-fifty",
   "metadata": {},
   "source": [
    "Learning rate tentunya akan menentukan seberapa cepat proses learning kita. Dapat dilihat semakin kecil learning rate maka proses pembelajaran akan lebih lamban. Pada dasarnya initial weight yang kita berikan akan membentuk sebuah graf yang modelnya 'sama' regardless learning rate yang kita berikan. Sehingga semakin kecil learning rate akan semakin akurat, tetapi akan membutuhkan epochs yang lebih besar.\n",
    "- Waspada bahwa learning rate terlalu tinggi dapat menghasilkan overshoot."
   ]
  },
  {
   "cell_type": "code",
   "execution_count": 15,
   "id": "lesbian-exhibit",
   "metadata": {},
   "outputs": [
    {
     "data": {
      "image/png": "[encoded data removed]",
      "text/plain": [
       "<Figure size 1440x360 with 3 Axes>"
      ]
     },
     "metadata": {
      "needs_background": "light"
     },
     "output_type": "display_data"
    }
   ],
   "source": [
    "xPoint = np.arange(1, epochs+1)\n",
    "fig, axes = plt.subplots(nrows=1, ncols=3, figsize=(20,5))\n",
    "for i, ax in zip(range(len(listScore)), axes.flatten()):\n",
    "    ax.plot(xPoint, listScore[i])\n",
    "    ax.set_title('Integer/Float Encoding\\nLearning Rate: %.4f' % learning_rate[i])\n",
    "    ax.set_xlabel(\"Epochs / Iterations\")\n",
    "    ax.set_ylabel(\"Score\")\n",
    "plt.show()"
   ]
  },
  {
   "cell_type": "markdown",
   "id": "exceptional-contribution",
   "metadata": {},
   "source": [
    "Akurasi yang ditunjukkan diatas berdasarkan rata-rata error dari seluruh data testing setiap iterasi. Error dihitung dari selisih tebakan fungsi aktivasi dengan nilai integer/float encoding yang kita definisikan sebelumnya. Tentunya ini sangat susah untuk mendapat akurasi tinggi, bayangkan saja skenario berikut:\n",
    "\n",
    "- prediksi = 0.38, real = 0.5, prediksi dibulatkan = 0.5\n",
    "- prediksi = 0.35, real = 0.5, prediksi dibulatkan = 0.5\n",
    "- prediksi = 0.95, real = 0.0, prediksi dibulatkan = 1.0\n",
    "- prediksi = 0.80, real = 1.0, prediksi dibulatkan = 1.0\n",
    "\n",
    "jika dirata-ratakan, skenario diatas memiliki error ~= 35% padahal jika menggunakan pembulatan seharusnya error yang dihasilkan lebih rendah yaitu 25%. dibawah adalah contoh menggunakan fungsi predict() yang akan membulatkan hasil prediksi"
   ]
  },
  {
   "cell_type": "markdown",
   "id": "artificial-springer",
   "metadata": {},
   "source": [
    "### Prediksi\n",
    "menggunakan x sebagai input yang dikalkulasi dengan gradient weights dan bias. kemudian menggunakan fungsi aktivasi untuk menebak klasifikasi mulai dari range 0-1. Dilakukan pembulatan ke 0.5 terdekat. Kemudian hasilnya di decode kembali ke bentuk semula yaitu string."
   ]
  },
  {
   "cell_type": "code",
   "execution_count": 16,
   "id": "median-sculpture",
   "metadata": {},
   "outputs": [],
   "source": [
    "# prediksi akan menebak nilai yang diberikan oleh x menggunakan gradient\n",
    "# nilai akan dibulatkan kepada 0.5 terdekat\n",
    "# ini untuk menentukan kategori dimana:\n",
    "# 0.0 virginica, 0.5 = versicolor, 1 = setosa\n",
    "def predict(x, weights, bias):\n",
    "    pred = np.dot(x, weights) + bias\n",
    "    res = sigmoid(pred)\n",
    "    res = roundhalf(res)\n",
    "    return Decode(res)"
   ]
  },
  {
   "cell_type": "code",
   "execution_count": 17,
   "id": "broken-subject",
   "metadata": {},
   "outputs": [],
   "source": [
    "# fungsi akan memprediksi output (ypred) dengan input x\n",
    "# menggunakan weights dan bias yang telah dikalkulasi sebelumnya\n",
    "\n",
    "def PlotRecognition(x, y):\n",
    "    fig, axes = plt.subplots(nrows=1, ncols=3, figsize=(20,5))\n",
    "    for i, ax in zip(range(len(listScore)), axes.flatten()):\n",
    "        title = 'Confusion Matrix\\nLearning Rate: %.4f' % learning_rate[i]\n",
    "        yPred = predict(x, listWeights[i], listBias[i])\n",
    "        PlotConfusionMatrix(title, ax, y, yPred)\n",
    "    plt.show()\n",
    "\n",
    "def TabulateRecognition(x, y, weights, bias):\n",
    "    yPred = predict(x, weights, bias)\n",
    "    t = PrettyTable()\n",
    "    t.title = 'Training Recognition'\n",
    "    t.add_column('Prediciton', yPred)\n",
    "    t.add_column('Actual', y)\n",
    "    t.sortby = 'Actual'\n",
    "    print(t)"
   ]
  },
  {
   "cell_type": "markdown",
   "id": "abandoned-arrest",
   "metadata": {},
   "source": [
    "### Recognition Rate dari Data Training"
   ]
  },
  {
   "cell_type": "code",
   "execution_count": 18,
   "id": "pediatric-phoenix",
   "metadata": {},
   "outputs": [
    {
     "data": {
      "image/png": "[encoded data removed]",
      "text/plain": [
       "<Figure size 1440x360 with 6 Axes>"
      ]
     },
     "metadata": {
      "needs_background": "light"
     },
     "output_type": "display_data"
    }
   ],
   "source": [
    "yTrain = Decode(yTrain)\n",
    "PlotRecognition(xTrain, yTrain)"
   ]
  },
  {
   "cell_type": "code",
   "execution_count": 19,
   "id": "purple-denmark",
   "metadata": {},
   "outputs": [
    {
     "name": "stdout",
     "output_type": "stream",
     "text": [
      "+-----------------------------------+\n",
      "|        Training Recognition       |\n",
      "+-----------------+-----------------+\n",
      "|    Prediciton   |      Actual     |\n",
      "+-----------------+-----------------+\n",
      "|   Iris-setosa   |   Iris-setosa   |\n",
      "|   Iris-setosa   |   Iris-setosa   |\n",
      "|   Iris-setosa   |   Iris-setosa   |\n",
      "|   Iris-setosa   |   Iris-setosa   |\n",
      "|   Iris-setosa   |   Iris-setosa   |\n",
      "|   Iris-setosa   |   Iris-setosa   |\n",
      "|   Iris-setosa   |   Iris-setosa   |\n",
      "|   Iris-setosa   |   Iris-setosa   |\n",
      "|   Iris-setosa   |   Iris-setosa   |\n",
      "|   Iris-setosa   |   Iris-setosa   |\n",
      "|   Iris-setosa   |   Iris-setosa   |\n",
      "|   Iris-setosa   |   Iris-setosa   |\n",
      "|   Iris-setosa   |   Iris-setosa   |\n",
      "|   Iris-setosa   |   Iris-setosa   |\n",
      "|   Iris-setosa   |   Iris-setosa   |\n",
      "|   Iris-setosa   |   Iris-setosa   |\n",
      "|   Iris-setosa   |   Iris-setosa   |\n",
      "|   Iris-setosa   |   Iris-setosa   |\n",
      "|   Iris-setosa   |   Iris-setosa   |\n",
      "|   Iris-setosa   |   Iris-setosa   |\n",
      "|   Iris-setosa   |   Iris-setosa   |\n",
      "|   Iris-setosa   |   Iris-setosa   |\n",
      "|   Iris-setosa   |   Iris-setosa   |\n",
      "|   Iris-setosa   |   Iris-setosa   |\n",
      "|   Iris-setosa   |   Iris-setosa   |\n",
      "|   Iris-setosa   |   Iris-setosa   |\n",
      "|   Iris-setosa   |   Iris-setosa   |\n",
      "|   Iris-setosa   |   Iris-setosa   |\n",
      "|   Iris-setosa   |   Iris-setosa   |\n",
      "|   Iris-setosa   |   Iris-setosa   |\n",
      "|   Iris-setosa   |   Iris-setosa   |\n",
      "|   Iris-setosa   |   Iris-setosa   |\n",
      "|   Iris-setosa   |   Iris-setosa   |\n",
      "| Iris-versicolor | Iris-versicolor |\n",
      "| Iris-versicolor | Iris-versicolor |\n",
      "| Iris-versicolor | Iris-versicolor |\n",
      "| Iris-versicolor | Iris-versicolor |\n",
      "| Iris-versicolor | Iris-versicolor |\n",
      "| Iris-versicolor | Iris-versicolor |\n",
      "| Iris-versicolor | Iris-versicolor |\n",
      "| Iris-versicolor | Iris-versicolor |\n",
      "| Iris-versicolor | Iris-versicolor |\n",
      "| Iris-versicolor | Iris-versicolor |\n",
      "| Iris-versicolor | Iris-versicolor |\n",
      "| Iris-versicolor | Iris-versicolor |\n",
      "| Iris-versicolor | Iris-versicolor |\n",
      "| Iris-versicolor | Iris-versicolor |\n",
      "| Iris-versicolor | Iris-versicolor |\n",
      "| Iris-versicolor | Iris-versicolor |\n",
      "| Iris-versicolor | Iris-versicolor |\n",
      "| Iris-versicolor | Iris-versicolor |\n",
      "| Iris-versicolor | Iris-versicolor |\n",
      "| Iris-versicolor | Iris-versicolor |\n",
      "| Iris-versicolor | Iris-versicolor |\n",
      "| Iris-versicolor | Iris-versicolor |\n",
      "| Iris-versicolor | Iris-versicolor |\n",
      "| Iris-versicolor | Iris-versicolor |\n",
      "| Iris-versicolor | Iris-versicolor |\n",
      "| Iris-versicolor | Iris-versicolor |\n",
      "| Iris-versicolor | Iris-versicolor |\n",
      "| Iris-versicolor | Iris-versicolor |\n",
      "| Iris-versicolor | Iris-versicolor |\n",
      "| Iris-versicolor | Iris-versicolor |\n",
      "| Iris-versicolor | Iris-versicolor |\n",
      "| Iris-versicolor | Iris-versicolor |\n",
      "| Iris-versicolor | Iris-versicolor |\n",
      "| Iris-versicolor | Iris-versicolor |\n",
      "| Iris-versicolor | Iris-versicolor |\n",
      "| Iris-versicolor | Iris-versicolor |\n",
      "| Iris-versicolor | Iris-versicolor |\n",
      "| Iris-versicolor | Iris-versicolor |\n",
      "|  Iris-virginica | Iris-versicolor |\n",
      "|  Iris-virginica | Iris-versicolor |\n",
      "|  Iris-virginica | Iris-versicolor |\n",
      "| Iris-versicolor |  Iris-virginica |\n",
      "| Iris-versicolor |  Iris-virginica |\n",
      "|  Iris-virginica |  Iris-virginica |\n",
      "|  Iris-virginica |  Iris-virginica |\n",
      "|  Iris-virginica |  Iris-virginica |\n",
      "|  Iris-virginica |  Iris-virginica |\n",
      "|  Iris-virginica |  Iris-virginica |\n",
      "|  Iris-virginica |  Iris-virginica |\n",
      "|  Iris-virginica |  Iris-virginica |\n",
      "|  Iris-virginica |  Iris-virginica |\n",
      "|  Iris-virginica |  Iris-virginica |\n",
      "|  Iris-virginica |  Iris-virginica |\n",
      "|  Iris-virginica |  Iris-virginica |\n",
      "|  Iris-virginica |  Iris-virginica |\n",
      "|  Iris-virginica |  Iris-virginica |\n",
      "|  Iris-virginica |  Iris-virginica |\n",
      "|  Iris-virginica |  Iris-virginica |\n",
      "|  Iris-virginica |  Iris-virginica |\n",
      "|  Iris-virginica |  Iris-virginica |\n",
      "|  Iris-virginica |  Iris-virginica |\n",
      "|  Iris-virginica |  Iris-virginica |\n",
      "|  Iris-virginica |  Iris-virginica |\n",
      "|  Iris-virginica |  Iris-virginica |\n",
      "|  Iris-virginica |  Iris-virginica |\n",
      "|  Iris-virginica |  Iris-virginica |\n",
      "|  Iris-virginica |  Iris-virginica |\n",
      "|  Iris-virginica |  Iris-virginica |\n",
      "|  Iris-virginica |  Iris-virginica |\n",
      "|  Iris-virginica |  Iris-virginica |\n",
      "|  Iris-virginica |  Iris-virginica |\n",
      "|  Iris-virginica |  Iris-virginica |\n",
      "+-----------------+-----------------+\n"
     ]
    }
   ],
   "source": [
    "TabulateRecognition(xTrain, yTrain, listWeights[1], listBias[1])"
   ]
  },
  {
   "cell_type": "markdown",
   "id": "level-edition",
   "metadata": {},
   "source": [
    "### Recognition Rate dari Data Testing"
   ]
  },
  {
   "cell_type": "code",
   "execution_count": 20,
   "id": "paperback-falls",
   "metadata": {},
   "outputs": [
    {
     "data": {
      "image/png": "[encoded data removed]",
      "text/plain": [
       "<Figure size 1440x360 with 6 Axes>"
      ]
     },
     "metadata": {
      "needs_background": "light"
     },
     "output_type": "display_data"
    }
   ],
   "source": [
    "PlotRecognition(xTest, yTest)"
   ]
  },
  {
   "cell_type": "code",
   "execution_count": 21,
   "id": "infrared-harassment",
   "metadata": {},
   "outputs": [
    {
     "name": "stdout",
     "output_type": "stream",
     "text": [
      "+-----------------------------------+\n",
      "|        Training Recognition       |\n",
      "+-----------------+-----------------+\n",
      "|    Prediciton   |      Actual     |\n",
      "+-----------------+-----------------+\n",
      "|   Iris-setosa   |   Iris-setosa   |\n",
      "|   Iris-setosa   |   Iris-setosa   |\n",
      "|   Iris-setosa   |   Iris-setosa   |\n",
      "|   Iris-setosa   |   Iris-setosa   |\n",
      "|   Iris-setosa   |   Iris-setosa   |\n",
      "|   Iris-setosa   |   Iris-setosa   |\n",
      "|   Iris-setosa   |   Iris-setosa   |\n",
      "|   Iris-setosa   |   Iris-setosa   |\n",
      "|   Iris-setosa   |   Iris-setosa   |\n",
      "|   Iris-setosa   |   Iris-setosa   |\n",
      "|   Iris-setosa   |   Iris-setosa   |\n",
      "|   Iris-setosa   |   Iris-setosa   |\n",
      "|   Iris-setosa   |   Iris-setosa   |\n",
      "|   Iris-setosa   |   Iris-setosa   |\n",
      "|   Iris-setosa   |   Iris-setosa   |\n",
      "|   Iris-setosa   |   Iris-setosa   |\n",
      "|   Iris-setosa   |   Iris-setosa   |\n",
      "| Iris-versicolor | Iris-versicolor |\n",
      "| Iris-versicolor | Iris-versicolor |\n",
      "| Iris-versicolor | Iris-versicolor |\n",
      "| Iris-versicolor | Iris-versicolor |\n",
      "| Iris-versicolor | Iris-versicolor |\n",
      "| Iris-versicolor | Iris-versicolor |\n",
      "| Iris-versicolor | Iris-versicolor |\n",
      "| Iris-versicolor | Iris-versicolor |\n",
      "| Iris-versicolor | Iris-versicolor |\n",
      "| Iris-versicolor |  Iris-virginica |\n",
      "|  Iris-virginica |  Iris-virginica |\n",
      "|  Iris-virginica |  Iris-virginica |\n",
      "|  Iris-virginica |  Iris-virginica |\n",
      "|  Iris-virginica |  Iris-virginica |\n",
      "|  Iris-virginica |  Iris-virginica |\n",
      "|  Iris-virginica |  Iris-virginica |\n",
      "|  Iris-virginica |  Iris-virginica |\n",
      "|  Iris-virginica |  Iris-virginica |\n",
      "|  Iris-virginica |  Iris-virginica |\n",
      "|  Iris-virginica |  Iris-virginica |\n",
      "|  Iris-virginica |  Iris-virginica |\n",
      "|  Iris-virginica |  Iris-virginica |\n",
      "|  Iris-virginica |  Iris-virginica |\n",
      "|  Iris-virginica |  Iris-virginica |\n",
      "|  Iris-virginica |  Iris-virginica |\n",
      "|  Iris-virginica |  Iris-virginica |\n",
      "|  Iris-virginica |  Iris-virginica |\n",
      "|  Iris-virginica |  Iris-virginica |\n",
      "+-----------------+-----------------+\n"
     ]
    }
   ],
   "source": [
    "TabulateRecognition(xTest, yTest, listWeights[1], listBias[1])"
   ]
  },
  {
   "cell_type": "markdown",
   "id": "exempt-maldives",
   "metadata": {},
   "source": [
    "### Kesimpulan\n",
    "- Dengan Epochs 500, learning rate 0.0001 terlalu lama dalam mempelajari model. Ini dapat kita lihat dari perbandingan akurasi dengan learning rate yang lebih tinggi. Kita dapat simpulkan juga dari graf, bahwa learning rate 0.0001 masih memendam potensi untuk meningkatkan akurasi seandainya diberi lebih banyak epochs atau iterasi untuk learning.\n",
    "- Learning rate 0.0005 adalah sweetspot untuk skenario data iris dengan epochs 500. Model berhasil belajar secara konsisten. Dilihat dari graf, proses learning sudah mendekati puncak dari akurasi tertinggi karena kenaikan akurasi tiap epoch sudah sangat minim. \n",
    "- Learning Rate 1.0 terlalu tinggi sehingga menghasilkan overshoot. Ini berdampak pada akurasi data yang kurang akurat.\n",
    "- Data yang diambil dari percobaan diatas adalah local minimum karena kita berangkat pada satu nilai inisial\n",
    "- Karena nilai inisial di random, setiap kali notebook dijalankan dapat menghasilkan akurasi yang berbeda."
   ]
  },
  {
   "cell_type": "markdown",
   "id": "correct-belize",
   "metadata": {},
   "source": [
    "#### Referensi:\n",
    "https://www.youtube.com/watch?v=9UBqkUJVP4g"
   ]
  }
 ],
 "metadata": {
  "kernelspec": {
   "display_name": "Python 3",
   "language": "python",
   "name": "python3"
  },
  "language_info": {
   "codemirror_mode": {
    "name": "ipython",
    "version": 3
   },
   "file_extension": ".py",
   "mimetype": "text/x-python",
   "name": "python",
   "nbconvert_exporter": "python",
   "pygments_lexer": "ipython3",
   "version": "3.9.2"
  }
 },
 "nbformat": 4,
 "nbformat_minor": 5
}
